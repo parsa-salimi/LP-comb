{
 "cells": [
  {
   "cell_type": "code",
   "execution_count": 1,
   "id": "500202bf",
   "metadata": {},
   "outputs": [],
   "source": [
    "import gurobipy as gp\n",
    "from gurobipy import *\n",
    "import itertools\n",
    "\n"
   ]
  },
  {
   "cell_type": "markdown",
   "id": "a3583cbd",
   "metadata": {},
   "source": [
    "the second argument is the number of clauses in the function\n",
    "the third argument is the minimum length of each clause\n",
    "prints a function whose first variable is maximally frequent, such that this frequency is as small\n",
    "as possible,given the constraints\n",
    "returns the frequency"
   ]
  },
  {
   "cell_type": "code",
   "execution_count": 2,
   "id": "f76b2c40",
   "metadata": {},
   "outputs": [],
   "source": [
    "\n",
    "\n",
    "def optimizeLen(numVars,currentLen,minClauseLen):\n",
    "    #cartesian product [0,1]^n\n",
    "    ListRep = list(itertools.product([0,1],repeat = numVars))\n",
    "\n",
    "    m = gp.Model('HyperGraph')\n",
    "    \n",
    "    #each variable represents a subset\n",
    "    x = m.addVars(ListRep,vtype = GRB.BINARY, name = \"x\")\n",
    "\n",
    "    #decides if a is a subset of b\n",
    "    def subset(a,b):\n",
    "        if a==b :\n",
    "            return False\n",
    "        l = len(a)\n",
    "        for i in range(l):\n",
    "            if (a[i] > b[i]):\n",
    "                return False\n",
    "        return True\n",
    "\n",
    "    #returns all subsets of a set (represented as a binary string of length n). not very efficient right now\n",
    "    def subsets(hpBin):\n",
    "        l = len(hpBin)\n",
    "        res = []\n",
    "        allSets = list(itertools.product([0,1],repeat = l))\n",
    "        for hp in allSets:\n",
    "            if subset(hp,hpBin):\n",
    "                res.append(hp)\n",
    "        return res\n",
    "\n",
    "    #antichain constraints. ensures that no clause is a subset of another\n",
    "    for i in ListRep:\n",
    "        for j in subsets(i):\n",
    "            m.addConstr(x[i] + x[j] <= 1, \"antichain\")\n",
    "    m.addConstr(x.sum() == currentLen, \"hpLength\")\n",
    "\n",
    "    \n",
    "    #list of subsets that contains the nth element\n",
    "    def hasElement(n):\n",
    "        lst = []\n",
    "        for s in x:\n",
    "            if s[n]== 1:\n",
    "                lst.append(s)\n",
    "        return tupledict({key:x[key] for key in lst})\n",
    "    \n",
    "    hasOne = hasElement(0)\n",
    "\n",
    "    \n",
    "    for i in range(1,numVars):\n",
    "        #these constraints ensure that the first variable has maximum frequency\n",
    "        m.addConstr(hasOne.sum() - hasElement(i).sum() >= 0, \"freq\" + str(i+1))\n",
    "        #and these ensure that all variables appear\n",
    "        m.addConstr(hasElement(i).sum() >= 1, str(i) + \"var\")\n",
    "    m.addConstr(hasOne.sum() >= 1, \"1var\")\n",
    "    \n",
    "    \n",
    "\n",
    "    def subsetsOfLength(n):\n",
    "        lst = []\n",
    "        for s in x:\n",
    "            if sum(s) == n :\n",
    "                lst.append(s)\n",
    "        return tupledict({key:x[key] for key in lst})\n",
    "\n",
    "\n",
    "    for i in range(1,minClauseLen):\n",
    "        m.addConstr(subsetsOfLength(i).sum() == 0, \"minclause\" + str(i))\n",
    "    \n",
    "\n",
    "\n",
    "    m.setObjective(x.sum(1, '*', '*', '*', '*', '*', '*', '*'), GRB.MINIMIZE)\n",
    "\n",
    "    m.write('test.lp')\n",
    "\n",
    "    m.optimize()\n",
    "\n",
    "    def prettyprint(hpBin):\n",
    "        res = []\n",
    "        for i in range(len(hpBin)):\n",
    "            if(hpBin[i] == 1):\n",
    "                res.append(i+1)\n",
    "        print(\"(\", end=\"\")\n",
    "        for r in res:\n",
    "            print(r, end = \" \")\n",
    "        print(\")\", end = \" \")\n",
    "\n",
    "    for i in ListRep:\n",
    "        if (0.9 <= x[i].x <= 1.1):\n",
    "            prettyprint(i)\n",
    "                        \n",
    "    obj = m.getObjective()\n",
    "    return (obj.getValue())/currentLen"
   ]
  },
  {
   "cell_type": "code",
   "execution_count": null,
   "id": "ec608ed3",
   "metadata": {},
   "outputs": [],
   "source": []
  },
  {
   "cell_type": "code",
   "execution_count": 3,
   "id": "33fb2bfd",
   "metadata": {},
   "outputs": [
    {
     "name": "stdout",
     "output_type": "stream",
     "text": [
      "(6 8 ) (3 5 ) (2 7 ) (1 4 ) "
     ]
    },
    {
     "data": {
      "text/plain": [
       "0.25"
      ]
     },
     "execution_count": 3,
     "metadata": {},
     "output_type": "execute_result"
    }
   ],
   "source": [
    "optimizeLen(8,4,2)"
   ]
  },
  {
   "cell_type": "code",
   "execution_count": null,
   "id": "b740d87f",
   "metadata": {},
   "outputs": [],
   "source": []
  },
  {
   "cell_type": "code",
   "execution_count": 10,
   "id": "244b28d2",
   "metadata": {},
   "outputs": [],
   "source": [
    "%%capture cap --no-stderr\n",
    "for i in range(1,3):\n",
    "    print(\"on \", i, \" variables:\")\n",
    "    res = optimizeLen(8,i,2)\n",
    "    print(\"\")\n",
    "    print(\"frequency = \", res)\n",
    "    print(\"------------------------\")\n",
    "with open('output.txt', 'w') as f:\n",
    "    f.write(cap.stdout)\n",
    "cap.show()"
   ]
  },
  {
   "cell_type": "code",
   "execution_count": null,
   "id": "0cf914d3",
   "metadata": {},
   "outputs": [],
   "source": []
  }
 ],
 "metadata": {
  "kernelspec": {
   "display_name": "Python 3",
   "language": "python",
   "name": "python3"
  },
  "language_info": {
   "codemirror_mode": {
    "name": "ipython",
    "version": 3
   },
   "file_extension": ".py",
   "mimetype": "text/x-python",
   "name": "python",
   "nbconvert_exporter": "python",
   "pygments_lexer": "ipython3",
   "version": "3.8.8"
  }
 },
 "nbformat": 4,
 "nbformat_minor": 5
}
